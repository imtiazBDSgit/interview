{
 "cells": [
  {
   "cell_type": "markdown",
   "metadata": {},
   "source": [
    "#### Packages to import"
   ]
  },
  {
   "cell_type": "code",
   "execution_count": 1,
   "metadata": {},
   "outputs": [
    {
     "name": "stderr",
     "output_type": "stream",
     "text": [
      "C:\\Users\\imtkhan\\AppData\\Roaming\\Python\\Python37\\site-packages\\spacy\\util.py:275: UserWarning: [W031] Model 'en_core_web_sm' (2.2.0) requires spaCy v2.2 and is incompatible with the current spaCy version (2.3.1). This may lead to unexpected results or runtime errors. To resolve this, download a newer compatible model or retrain your custom model with the current spaCy version. For more details and available updates, run: python -m spacy validate\n",
      "  warnings.warn(warn_msg)\n"
     ]
    }
   ],
   "source": [
    "#! pip install dateparser\n",
    "#!pip install pyspellchecker\n",
    "from dateparser import parse\n",
    "import spacy\n",
    "from datetime import datetime\n",
    "from spellchecker import SpellChecker\n",
    "import autocomplete\n",
    "import requests, json \n",
    "nlp=spacy.load('en_core_web_sm')"
   ]
  },
  {
   "cell_type": "markdown",
   "metadata": {},
   "source": [
    "#### a.Time/Date elements"
   ]
  },
  {
   "cell_type": "code",
   "execution_count": 2,
   "metadata": {},
   "outputs": [
    {
     "data": {
      "text/plain": [
       "{'last month': [{'gte': '2020-07-14 18:36:58.921890',\n",
       "   'lte': '2020-08-14 18:36:58.922894'}]}"
      ]
     },
     "execution_count": 2,
     "metadata": {},
     "output_type": "execute_result"
    }
   ],
   "source": [
    "def gettime_component(query,out={}):\n",
    "    doc=nlp(query)\n",
    "    for chunk in doc.noun_chunks:\n",
    "        phrase=parse((chunk.text))\n",
    "        if phrase:\n",
    "            out[str(chunk.text)]=[{'gte': str(datetime.now() if phrase>datetime.now() else phrase) ,\n",
    "                         'lte': str(datetime.now() if phrase<datetime.now() else phrase)}]\n",
    "    return out  \n",
    "\n",
    "#test\n",
    "gettime_component('Profit of my organization in last month')"
   ]
  },
  {
   "cell_type": "markdown",
   "metadata": {},
   "source": [
    "#### b. NER"
   ]
  },
  {
   "cell_type": "code",
   "execution_count": 3,
   "metadata": {},
   "outputs": [
    {
     "data": {
      "text/plain": [
       "{'US': 'LOCATION', 'India': 'LOCATION'}"
      ]
     },
     "execution_count": 3,
     "metadata": {},
     "output_type": "execute_result"
    }
   ],
   "source": [
    "def getlocations(query,out={}):\n",
    "    doc=nlp(query)\n",
    "    for entity in doc.ents:\n",
    "        if entity.label_=='GPE':\n",
    "            out[entity.text]='LOCATION'\n",
    "    return out\n",
    "\n",
    "#test\n",
    "getlocations('Profit of my organization in last month in US and India')"
   ]
  },
  {
   "cell_type": "markdown",
   "metadata": {},
   "source": [
    "#### Association between the tokens in the user query"
   ]
  },
  {
   "cell_type": "code",
   "execution_count": 4,
   "metadata": {},
   "outputs": [
    {
     "data": {
      "text/plain": [
       "{'Profit': {'dep': 'ROOT',\n",
       "  'head': 'Profit',\n",
       "  'headtag': 'NOUN',\n",
       "  'children': [of, in, in]},\n",
       " 'of': {'dep': 'prep',\n",
       "  'head': 'Profit',\n",
       "  'headtag': 'NOUN',\n",
       "  'children': [organization]},\n",
       " 'my': {'dep': 'poss',\n",
       "  'head': 'organization',\n",
       "  'headtag': 'NOUN',\n",
       "  'children': []},\n",
       " 'organization': {'dep': 'pobj',\n",
       "  'head': 'of',\n",
       "  'headtag': 'ADP',\n",
       "  'children': [my]},\n",
       " 'in': {'dep': 'prep', 'head': 'Profit', 'headtag': 'NOUN', 'children': [US]},\n",
       " 'last': {'dep': 'amod', 'head': 'month', 'headtag': 'NOUN', 'children': []},\n",
       " 'month': {'dep': 'pobj', 'head': 'in', 'headtag': 'ADP', 'children': [last]},\n",
       " 'US': {'dep': 'pobj',\n",
       "  'head': 'in',\n",
       "  'headtag': 'ADP',\n",
       "  'children': [and, India]},\n",
       " 'and': {'dep': 'cc', 'head': 'US', 'headtag': 'PROPN', 'children': []},\n",
       " 'India': {'dep': 'conj', 'head': 'US', 'headtag': 'PROPN', 'children': []}}"
      ]
     },
     "execution_count": 4,
     "metadata": {},
     "output_type": "execute_result"
    }
   ],
   "source": [
    "def getassociations(query,out={}):\n",
    "    doc = nlp(query)\n",
    "    for token in doc:\n",
    "        out[str(token.text)]={'dep':token.dep_,'head':token.head.text,\n",
    "                              'headtag':token.head.pos_,\n",
    "                              'children':[child for child in token.children]}\n",
    "    return out\n",
    "\n",
    "\n",
    "# Text: The original token text.\n",
    "# Dep: The syntactic relation connecting child to head.\n",
    "# Head text: The original text of the token head.\n",
    "# Head POS: The part-of-speech tag of the token head.\n",
    "# Children: The immediate syntactic dependents of the token.\n",
    "\n",
    "###test\n",
    "getassociations(\"Profit of my organization in last month in US and India\")"
   ]
  },
  {
   "cell_type": "markdown",
   "metadata": {},
   "source": [
    "#### Identification and correction of spell errors in the user query. "
   ]
  },
  {
   "cell_type": "code",
   "execution_count": 5,
   "metadata": {},
   "outputs": [
    {
     "data": {
      "text/plain": [
       "'profit of my organization in last month in US and India'"
      ]
     },
     "execution_count": 5,
     "metadata": {},
     "output_type": "execute_result"
    }
   ],
   "source": [
    "def correctSpellings(query):\n",
    "    spell = SpellChecker()\n",
    "    return ' '.join(spell.correction(word) for word in query.split())\n",
    "\n",
    "##test\n",
    "correctSpellings(\"Proft of my organizatn in last mnth in US and India\")"
   ]
  },
  {
   "cell_type": "markdown",
   "metadata": {},
   "source": [
    "#### Next phrase prediction while the user types a query"
   ]
  },
  {
   "cell_type": "code",
   "execution_count": 6,
   "metadata": {},
   "outputs": [
    {
     "data": {
      "text/plain": [
       "['last 12 presidents',\n",
       " 'last 12 months',\n",
       " 'last 12 hour radar',\n",
       " 'last 12 months from today',\n",
       " 'last 12 months sql',\n",
       " 'last 12 hour radar loop',\n",
       " 'last 12 verses of mark',\n",
       " 'last 12 hours weather radar']"
      ]
     },
     "execution_count": 6,
     "metadata": {},
     "output_type": "execute_result"
    }
   ],
   "source": [
    "def getSuggestions(term):\n",
    "    URL=\"http://suggestqueries.google.com/complete/search?client=chrome&q=\"+term\n",
    "    apiurl = URL\n",
    "    r = requests.get(apiurl)\n",
    "    text=json.loads(r.content.decode('utf-8'))\n",
    "    return text[1]\n",
    "\n",
    "### test\n",
    "getSuggestions('last 12')"
   ]
  },
  {
   "cell_type": "markdown",
   "metadata": {},
   "source": [
    "#### Brand name or product name identification from an NLP query without any lookup table."
   ]
  },
  {
   "cell_type": "code",
   "execution_count": 7,
   "metadata": {},
   "outputs": [
    {
     "data": {
      "text/plain": [
       "{'Nike': 'ORG'}"
      ]
     },
     "execution_count": 7,
     "metadata": {},
     "output_type": "execute_result"
    }
   ],
   "source": [
    "def getBrandNames(query,out={}):\n",
    "    doc=nlp(query)\n",
    "    for d in doc.ents:\n",
    "        if d.label_=='ORG':\n",
    "            out[d.text]=d.label_\n",
    "    return out\n",
    "\n",
    "#### test\n",
    "getBrandNames('profit of Nike in last month in US and India')    "
   ]
  }
 ],
 "metadata": {
  "kernelspec": {
   "display_name": "Python 3",
   "language": "python",
   "name": "python3"
  },
  "language_info": {
   "codemirror_mode": {
    "name": "ipython",
    "version": 3
   },
   "file_extension": ".py",
   "mimetype": "text/x-python",
   "name": "python",
   "nbconvert_exporter": "python",
   "pygments_lexer": "ipython3",
   "version": "3.7.4"
  }
 },
 "nbformat": 4,
 "nbformat_minor": 2
}
