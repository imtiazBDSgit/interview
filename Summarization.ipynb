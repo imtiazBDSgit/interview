{
  "nbformat": 4,
  "nbformat_minor": 0,
  "metadata": {
    "colab": {
      "name": "Summarization.ipynb",
      "provenance": [],
      "collapsed_sections": []
    },
    "kernelspec": {
      "name": "python3",
      "display_name": "Python 3"
    }
  },
  "cells": [
    {
      "cell_type": "markdown",
      "metadata": {
        "id": "laFUXUCFTsq5",
        "colab_type": "text"
      },
      "source": [
        "#### **Summarization**\n",
        "\n",
        "Text summarization can broadly be divided into two categories — Extractive Summarization and Abstractive Summarization.\n",
        "\n",
        "**Extractive Summarization**: These methods rely on extracting several parts, such as phrases and sentences, from a piece of text and stack them together to create a summary. Therefore, identifying the right sentences for summarization is of utmost importance in an extractive method.\n",
        "\n",
        "**Abstractive Summarization**: These methods use advanced NLP techniques to generate an entirely new summary. Some parts of this summary may not even appear in the original text.\n",
        "\n",
        "In this notebook we will be using Extractive Summarization\n",
        "\n"
      ]
    },
    {
      "cell_type": "markdown",
      "metadata": {
        "id": "S9RVThI7yd-F",
        "colab_type": "text"
      },
      "source": [
        "#### Mounting Google Drive to load the data"
      ]
    },
    {
      "cell_type": "code",
      "metadata": {
        "id": "8YKRvYcwXuu5",
        "colab_type": "code",
        "colab": {
          "base_uri": "https://localhost:8080/",
          "height": 125
        },
        "outputId": "ee38042e-b49c-4b06-a840-e9eb8d023c69"
      },
      "source": [
        "from google.colab import drive\n",
        "drive.mount('/content/gdrive')"
      ],
      "execution_count": 1,
      "outputs": [
        {
          "output_type": "stream",
          "text": [
            "Go to this URL in a browser: https://accounts.google.com/o/oauth2/auth?client_id=947318989803-6bn6qk8qdgf4n4g3pfee6491hc0brc4i.apps.googleusercontent.com&redirect_uri=urn%3aietf%3awg%3aoauth%3a2.0%3aoob&scope=email%20https%3a%2f%2fwww.googleapis.com%2fauth%2fdocs.test%20https%3a%2f%2fwww.googleapis.com%2fauth%2fdrive%20https%3a%2f%2fwww.googleapis.com%2fauth%2fdrive.photos.readonly%20https%3a%2f%2fwww.googleapis.com%2fauth%2fpeopleapi.readonly&response_type=code\n",
            "\n",
            "Enter your authorization code:\n",
            "··········\n",
            "Mounted at /content/gdrive\n"
          ],
          "name": "stdout"
        }
      ]
    },
    {
      "cell_type": "markdown",
      "metadata": {
        "id": "4MBhri_KykEb",
        "colab_type": "text"
      },
      "source": [
        "#### Data paths in drive"
      ]
    },
    {
      "cell_type": "code",
      "metadata": {
        "id": "FU0msLuIf8Tk",
        "colab_type": "code",
        "colab": {
          "base_uri": "https://localhost:8080/",
          "height": 34
        },
        "outputId": "b8ab17a3-a510-42e8-c395-42bc8f549665"
      },
      "source": [
        "!ls '/content/gdrive/My Drive/Colab Notebooks/datasets/'\n",
        "!gunzip '/content/gdrive/My Drive/Colab Notebooks/datasets/signalmedia-1m.jsonl.gz'"
      ],
      "execution_count": 4,
      "outputs": [
        {
          "output_type": "stream",
          "text": [
            "signalmedia-1m.jsonl.gz\n"
          ],
          "name": "stdout"
        }
      ]
    },
    {
      "cell_type": "markdown",
      "metadata": {
        "id": "qtv8qIEVypG6",
        "colab_type": "text"
      },
      "source": [
        "#### Importing relevant packages"
      ]
    },
    {
      "cell_type": "code",
      "metadata": {
        "id": "ybhjIFupQwjB",
        "colab_type": "code",
        "colab": {}
      },
      "source": [
        "import json\n",
        "import pandas as pd\n",
        "import spacy\n",
        "from collections import Counter\n",
        "nlp=spacy.load('en')"
      ],
      "execution_count": 17,
      "outputs": []
    },
    {
      "cell_type": "markdown",
      "metadata": {
        "id": "zQ1kJ_1ZytXA",
        "colab_type": "text"
      },
      "source": [
        "#### data paths"
      ]
    },
    {
      "cell_type": "code",
      "metadata": {
        "id": "QUOT59m6sLZe",
        "colab_type": "code",
        "colab": {}
      },
      "source": [
        "data_path='/content/gdrive/My Drive/Colab Notebooks/datasets/signalmedia-1m.jsonl'\n",
        "car_manufacturers_url='https://gist.githubusercontent.com/pcgeek86/78f4cad29dd16961ceeeee654127a0db/raw/b9a19ee5c6fb283eaf2f863a18ba9176359abd47/Car%2520Manufacturers.json'\n"
      ],
      "execution_count": null,
      "outputs": []
    },
    {
      "cell_type": "markdown",
      "metadata": {
        "id": "S7xAy23xyxOg",
        "colab_type": "text"
      },
      "source": [
        "#### data load"
      ]
    },
    {
      "cell_type": "code",
      "metadata": {
        "id": "ZgoIFvYcr_-A",
        "colab_type": "code",
        "colab": {}
      },
      "source": [
        "with open(data_path, 'r') as json_file:\n",
        "    json_list = list(json_file)\n"
      ],
      "execution_count": null,
      "outputs": []
    },
    {
      "cell_type": "markdown",
      "metadata": {
        "id": "16yZRfThy1N2",
        "colab_type": "text"
      },
      "source": [
        "#### Filtering emission related articles"
      ]
    },
    {
      "cell_type": "code",
      "metadata": {
        "id": "_DW0r6-YZDuD",
        "colab_type": "code",
        "colab": {}
      },
      "source": [
        "def pickEmissionArticles(articles):\n",
        "  emission_indices=[]\n",
        "  for i,a in enumerate(articles):\n",
        "    a=eval(a)\n",
        "    if 'emission' in a['content'].lower() or 'emission' in a['title'].lower():\n",
        "      emission_indices.append(i)\n",
        "  return emission_indices\n",
        "\n",
        "emission_index=pickEmissionArticles(json_list)"
      ],
      "execution_count": 22,
      "outputs": []
    },
    {
      "cell_type": "markdown",
      "metadata": {
        "id": "JXEpm_QCy6y5",
        "colab_type": "text"
      },
      "source": [
        "#### Getting emission related indices"
      ]
    },
    {
      "cell_type": "code",
      "metadata": {
        "id": "08QAqcOEbguF",
        "colab_type": "code",
        "colab": {
          "base_uri": "https://localhost:8080/",
          "height": 34
        },
        "outputId": "a10ebeaf-40db-408d-ad7e-2717a6fe75be"
      },
      "source": [
        "emission_json_list=[json_list[i] for i in emission_index]\n",
        "len(emission_json_list)"
      ],
      "execution_count": 24,
      "outputs": [
        {
          "output_type": "execute_result",
          "data": {
            "text/plain": [
              "10622"
            ]
          },
          "metadata": {
            "tags": []
          },
          "execution_count": 24
        }
      ]
    },
    {
      "cell_type": "markdown",
      "metadata": {
        "id": "PKQCbKeYzB6_",
        "colab_type": "text"
      },
      "source": [
        "#### Converting string values to list of dictionaries"
      ]
    },
    {
      "cell_type": "code",
      "metadata": {
        "id": "OId77GUZX_rH",
        "colab_type": "code",
        "colab": {
          "base_uri": "https://localhost:8080/",
          "height": 142
        },
        "outputId": "7e1820e8-276a-4f4f-98c8-37221171ab82"
      },
      "source": [
        "emission_json_list=[eval(x) for x in emission_json_list]\n",
        "emission_json_list[0]"
      ],
      "execution_count": 26,
      "outputs": [
        {
          "output_type": "execute_result",
          "data": {
            "text/plain": [
              "{'content': 'The fuel economy and smog ratings are shown on the sticker price of a 2015 Passat limited edition vehicle at a Volkswagen dealership in Escondido, California, September 21, 2015. —\\xa0Reuters pic FRANKFURT, Sept 22 — German auto giant Volkswagen’s shares plummeted nearly 20 per cent yesterday as investigations spread into revelations\\xa0that hundreds of thousands of its diesel cars have software that secretly thwarts US pollution tests. \\n \\nVolkswagen, the world’s largest automaker by sales in the first half of this year, said it had halted all diesel vehicle sales in the United States during a probe into the scandal, which could lead to fines of more than US$18 billion (RM76.786 billion). \\n \\nIn addition to the environmental fines, US authorities have reportedly launched a criminal investigation into the company. \\n \\nAccording to the US authorities, VW admitted that it had equipped about 482,000 cars in the US with\\xa0sophisticated software that covertly turns off pollution controls when the car is being driven and turns them on only when it detects that the car is undergoing an emissions test. \\n \\nWith the so-called “defeat device” deactivated, the car can spew pollutant gases into the air, including nitrogen oxide in amounts as much as 40 per cent higher than emissions standards, said the US Environmental Protection Agency, which announced the allegations Friday along with California authorities. \\n \\n“Using a defeat device in cars to evade clean air standards is illegal, and a threat to public health,” said Cynthia Giles, enforcement officer at the EPA. \\n \\nIn Germany, currently hosting the Frankfurt motor show vaunting the industry’s strengths and environmental credentials, the government launched an investigation into whether Volkswagen or other carmakers are doing anything similar in Germany or Europe. \\n \\nTransport Minister Alexander Dobrindt told the Bild daily that he had asked Germany’s Federal Motor Transport Authority “to immediately have specific and extensive tests conducted on all Volkswagen diesel models by independent experts.” \\n \\nSouth Korea’s Yonhap news agency said that authorities there, too, would conduct emissions tests on three Volkswagen car models in mid-October to check for similar deception. \\n \\nBeyond the potential fines and lawsuits, and the billions of euros that evaporated in Volkswagen’s stock market value as its shares plunged 18.19 per cent to €133 (RM635), wiping out more than US$15 billion, the company faces a potentially crippling blow to its reputation. \\n \\n Criminal probe launched \\n \\nThe vehicles affected are four-cylinder VW and Audi diesel cars in the US built since 2008. \\n \\nIn addition to the EPA’s probe, the US Department of Justice has launched a criminal investigation into the German automaker’s alleged violation of US air pollution laws, according to media reports yesterday. \\n \\nFirst reported by Bloomberg, the criminal probe piles more pressure on VW. \\n \\nContacted by AFP, neither the Justice Department nor Volkswagen chose to comment on the probe. \\n \\nThe EPA said that the agency had not issued a formal recall for the VW vehicles but expects to “compel” the company to issue a recall to reduce the emissions impacts of those vehicles. \\n \\n“Depending on the complexity of the repair and the lead time needed to obtain the necessary components, it could take up to one year to identify corrective actions, develop a recall plan, and issue recall notices,” the US agency said. \\n \\nThe EPA also said yesterday that it will screen for defeat devices in other manufacturers’ diesel vehicles currently on the road, though declined to identify the automakers whose vehicles will be tested. \\n \\n Deeply sorry \\n \\nVW chief executive Martin Winterkorn issued an apology Sunday, vowing that the group would cooperate with authorities and ordering an external investigation of its own into the matter. \\n \\n“The board of management takes these findings very seriously. I personally am deeply sorry that we have broken the trust of our customers and the public. We will cooperate fully with the responsible agencies, with transparency and urgency, to clearly, openly and completely establish all of the facts of this case,” Winterkorn said. \\n \\n“We at Volkswagen will do everything that must be done in order to re-establish the trust that so many people have placed in us, and we will do everything necessary in order to reverse the damage this has caused. This matter has first priority for me, personally, and for our entire board of management,” Winterkorn said. \\n \\nChristian Stadler of Warwick Business School said there was “no question that this is a big problem for Volkswagen and could lead to CEO Winterkorn losing his job after all.” \\n \\nWinterkorn, 68, has been chief executive since 2007, but clashed with other leadership earlier this year. \\n \\n Image damaged \\n \\nStefan Bratzel, director at the Center for Automotive Management, a research group, said the damage to VW’s image would be as great as the financial fines. \\n \\nAnother leading German auto expert, Ferdinand Dudenhoeffer, agreed.\\xa0 \\n \\n“It will be tough for VW to regain its credibility in the United States after this incident,” he said. \\n \\nIn the US, Edmunds.com analyst Jessica Caldwell said “it is in Volkswagen’s best interest to publicly address steps to fix this mess as soon as possible before it loses its customer base for good.” \\n \\nGerman Economy Minister Sigmar Gabriel expressed confidence that VW would clear up the matter quickly and thoroughly.\\xa0 \\n \\nAnd he insisted the reputation of “Made in Germany” technology would not be tarnished. — AFP',\n",
              " 'id': 'd86e447d-da83-4cc3-80b1-6dc3b561ee8f',\n",
              " 'media-type': 'News',\n",
              " 'published': '2015-09-22T00:38:00Z',\n",
              " 'source': 'Malay Mail',\n",
              " 'title': 'Criminal probe: Volkswagen slams into huge false emission scam'}"
            ]
          },
          "metadata": {
            "tags": []
          },
          "execution_count": 26
        }
      ]
    },
    {
      "cell_type": "markdown",
      "metadata": {
        "id": "HFpKdQsozH0b",
        "colab_type": "text"
      },
      "source": [
        "#### Creating pandas data frame "
      ]
    },
    {
      "cell_type": "code",
      "metadata": {
        "id": "gY9mY7y_WsiO",
        "colab_type": "code",
        "colab": {
          "base_uri": "https://localhost:8080/",
          "height": 386
        },
        "outputId": "fb2fbe98-2a66-428d-cd38-60970aa1399b"
      },
      "source": [
        "emission_df=pd.DataFrame(emission_json_list)\n",
        "emission_df.head()"
      ],
      "execution_count": 28,
      "outputs": [
        {
          "output_type": "execute_result",
          "data": {
            "text/html": [
              "<div>\n",
              "<style scoped>\n",
              "    .dataframe tbody tr th:only-of-type {\n",
              "        vertical-align: middle;\n",
              "    }\n",
              "\n",
              "    .dataframe tbody tr th {\n",
              "        vertical-align: top;\n",
              "    }\n",
              "\n",
              "    .dataframe thead th {\n",
              "        text-align: right;\n",
              "    }\n",
              "</style>\n",
              "<table border=\"1\" class=\"dataframe\">\n",
              "  <thead>\n",
              "    <tr style=\"text-align: right;\">\n",
              "      <th></th>\n",
              "      <th>id</th>\n",
              "      <th>content</th>\n",
              "      <th>title</th>\n",
              "      <th>media-type</th>\n",
              "      <th>source</th>\n",
              "      <th>published</th>\n",
              "    </tr>\n",
              "  </thead>\n",
              "  <tbody>\n",
              "    <tr>\n",
              "      <th>0</th>\n",
              "      <td>d86e447d-da83-4cc3-80b1-6dc3b561ee8f</td>\n",
              "      <td>The fuel economy and smog ratings are shown on...</td>\n",
              "      <td>Criminal probe: Volkswagen slams into huge fal...</td>\n",
              "      <td>News</td>\n",
              "      <td>Malay Mail</td>\n",
              "      <td>2015-09-22T00:38:00Z</td>\n",
              "    </tr>\n",
              "    <tr>\n",
              "      <th>1</th>\n",
              "      <td>1746cde7-2075-4809-8982-fa3b4c26d551</td>\n",
              "      <td>The German automakers really know how to make ...</td>\n",
              "      <td>Mercedes Benz debuts sleek new C-Class Coupe -...</td>\n",
              "      <td>Blog</td>\n",
              "      <td>uautoknow.net</td>\n",
              "      <td>2015-08-31T23:23:44Z</td>\n",
              "    </tr>\n",
              "    <tr>\n",
              "      <th>2</th>\n",
              "      <td>397fa71a-31b1-4216-8b90-c605a97f6d52</td>\n",
              "      <td>:14 \\n\\nIn late morning trade on the Frankfurt...</td>\n",
              "      <td>Volkswagen shares slide more than 6% in late m...</td>\n",
              "      <td>News</td>\n",
              "      <td>North Eastern Tribune</td>\n",
              "      <td>2015-09-28T10:11:52Z</td>\n",
              "    </tr>\n",
              "    <tr>\n",
              "      <th>3</th>\n",
              "      <td>a3a59992-1635-433a-8a8e-f853d2182055</td>\n",
              "      <td>I’m in the Arctic with JacksGap and glaciologi...</td>\n",
              "      <td>To the Arctic with JacksGap</td>\n",
              "      <td>Blog</td>\n",
              "      <td>WWF UK Blog</td>\n",
              "      <td>2015-09-28T14:36:20Z</td>\n",
              "    </tr>\n",
              "    <tr>\n",
              "      <th>4</th>\n",
              "      <td>4f802018-0e59-4e94-a45f-bd2858d71049</td>\n",
              "      <td>European stock markets recovered their poise T...</td>\n",
              "      <td>US stocks are stable in early trade; energy se...</td>\n",
              "      <td>News</td>\n",
              "      <td>Wichita Eagle</td>\n",
              "      <td>2015-09-29T13:48:07Z</td>\n",
              "    </tr>\n",
              "  </tbody>\n",
              "</table>\n",
              "</div>"
            ],
            "text/plain": [
              "                                     id  ...             published\n",
              "0  d86e447d-da83-4cc3-80b1-6dc3b561ee8f  ...  2015-09-22T00:38:00Z\n",
              "1  1746cde7-2075-4809-8982-fa3b4c26d551  ...  2015-08-31T23:23:44Z\n",
              "2  397fa71a-31b1-4216-8b90-c605a97f6d52  ...  2015-09-28T10:11:52Z\n",
              "3  a3a59992-1635-433a-8a8e-f853d2182055  ...  2015-09-28T14:36:20Z\n",
              "4  4f802018-0e59-4e94-a45f-bd2858d71049  ...  2015-09-29T13:48:07Z\n",
              "\n",
              "[5 rows x 6 columns]"
            ]
          },
          "metadata": {
            "tags": []
          },
          "execution_count": 28
        }
      ]
    },
    {
      "cell_type": "markdown",
      "metadata": {
        "id": "tnhieNnSzNEX",
        "colab_type": "text"
      },
      "source": [
        "#### Loading all car manufactures"
      ]
    },
    {
      "cell_type": "code",
      "metadata": {
        "id": "miO_40b3lcdZ",
        "colab_type": "code",
        "colab": {
          "base_uri": "https://localhost:8080/",
          "height": 199
        },
        "outputId": "555c15ef-c01e-4181-817d-82a2974d987b"
      },
      "source": [
        "all_car_manufactures=pd.read_json(car_manufacturers_url)\n",
        "all_car_manufactures.columns=['company_name']\n",
        "all_car_manufactures['company_name']=all_car_manufactures['company_name'].apply(str.lower)\n",
        "all_car_manufactures.head()"
      ],
      "execution_count": 41,
      "outputs": [
        {
          "output_type": "execute_result",
          "data": {
            "text/html": [
              "<div>\n",
              "<style scoped>\n",
              "    .dataframe tbody tr th:only-of-type {\n",
              "        vertical-align: middle;\n",
              "    }\n",
              "\n",
              "    .dataframe tbody tr th {\n",
              "        vertical-align: top;\n",
              "    }\n",
              "\n",
              "    .dataframe thead th {\n",
              "        text-align: right;\n",
              "    }\n",
              "</style>\n",
              "<table border=\"1\" class=\"dataframe\">\n",
              "  <thead>\n",
              "    <tr style=\"text-align: right;\">\n",
              "      <th></th>\n",
              "      <th>company_name</th>\n",
              "    </tr>\n",
              "  </thead>\n",
              "  <tbody>\n",
              "    <tr>\n",
              "      <th>0</th>\n",
              "      <td>abarth</td>\n",
              "    </tr>\n",
              "    <tr>\n",
              "      <th>1</th>\n",
              "      <td>alfa romeo</td>\n",
              "    </tr>\n",
              "    <tr>\n",
              "      <th>2</th>\n",
              "      <td>aston martin</td>\n",
              "    </tr>\n",
              "    <tr>\n",
              "      <th>3</th>\n",
              "      <td>audi</td>\n",
              "    </tr>\n",
              "    <tr>\n",
              "      <th>4</th>\n",
              "      <td>bentley</td>\n",
              "    </tr>\n",
              "  </tbody>\n",
              "</table>\n",
              "</div>"
            ],
            "text/plain": [
              "   company_name\n",
              "0        abarth\n",
              "1    alfa romeo\n",
              "2  aston martin\n",
              "3          audi\n",
              "4       bentley"
            ]
          },
          "metadata": {
            "tags": []
          },
          "execution_count": 41
        }
      ]
    },
    {
      "cell_type": "markdown",
      "metadata": {
        "id": "Tr0WvxREzUjk",
        "colab_type": "text"
      },
      "source": [
        "#### Function to return the main subject of the article\n",
        "\n",
        "1. Use spacy to find the ORG entity\n",
        "2. Check whether that entity is present in manufacturer list\n",
        "3. Create a Counter object of all the entities found in step 2\n",
        "4. Return the most common entity name from the article"
      ]
    },
    {
      "cell_type": "code",
      "metadata": {
        "id": "Cr7sKcUMgsOz",
        "colab_type": "code",
        "colab": {
          "base_uri": "https://localhost:8080/",
          "height": 35
        },
        "outputId": "5a04850b-09e3-4a74-c6ba-b9763b353389"
      },
      "source": [
        "def getMainAutomobileSubject(article):\n",
        "  org_list=[]\n",
        "  subject=''\n",
        "  doc=nlp(article)\n",
        "  for d in doc.ents:\n",
        "    if d.label_=='ORG' and d.text.lower() in all_car_manufactures['company_name'].tolist():\n",
        "      org_list.append(d.text)\n",
        "  if org_list:\n",
        "    counter_obj=Counter(org_list)\n",
        "    subject=counter_obj.most_common(1)[0][0]\n",
        "  return subject\n",
        "getMainAutomobileSubject(emission_df['content'][0])"
      ],
      "execution_count": 50,
      "outputs": [
        {
          "output_type": "execute_result",
          "data": {
            "application/vnd.google.colaboratory.intrinsic+json": {
              "type": "string"
            },
            "text/plain": [
              "'Volkswagen'"
            ]
          },
          "metadata": {
            "tags": []
          },
          "execution_count": 50
        }
      ]
    },
    {
      "cell_type": "markdown",
      "metadata": {
        "id": "MIYTNA-gz0my",
        "colab_type": "text"
      },
      "source": [
        "This method takes little bit of time to run , hence its a good idea to save this in gdrive , so that we dont have to repeat this process again"
      ]
    },
    {
      "cell_type": "code",
      "metadata": {
        "id": "wAwbg9TkiPoF",
        "colab_type": "code",
        "colab": {
          "base_uri": "https://localhost:8080/",
          "height": 573
        },
        "outputId": "d2c62fba-a3e2-4f98-a0ee-22328f04fd64"
      },
      "source": [
        "emission_df['subject_company']=emission_df.apply(lambda x:\n",
        "                                                     getMainAutomobileSubject(\n",
        "                                                     x['title'].lower()+\" \"+x['content'].lower()),\n",
        "                                                     axis=1)\n",
        "emission_df.head()"
      ],
      "execution_count": 53,
      "outputs": [
        {
          "output_type": "execute_result",
          "data": {
            "text/html": [
              "<div>\n",
              "<style scoped>\n",
              "    .dataframe tbody tr th:only-of-type {\n",
              "        vertical-align: middle;\n",
              "    }\n",
              "\n",
              "    .dataframe tbody tr th {\n",
              "        vertical-align: top;\n",
              "    }\n",
              "\n",
              "    .dataframe thead th {\n",
              "        text-align: right;\n",
              "    }\n",
              "</style>\n",
              "<table border=\"1\" class=\"dataframe\">\n",
              "  <thead>\n",
              "    <tr style=\"text-align: right;\">\n",
              "      <th></th>\n",
              "      <th>id</th>\n",
              "      <th>content</th>\n",
              "      <th>title</th>\n",
              "      <th>media-type</th>\n",
              "      <th>source</th>\n",
              "      <th>published</th>\n",
              "      <th>subject_company</th>\n",
              "    </tr>\n",
              "  </thead>\n",
              "  <tbody>\n",
              "    <tr>\n",
              "      <th>0</th>\n",
              "      <td>d86e447d-da83-4cc3-80b1-6dc3b561ee8f</td>\n",
              "      <td>The fuel economy and smog ratings are shown on...</td>\n",
              "      <td>Criminal probe: Volkswagen slams into huge fal...</td>\n",
              "      <td>News</td>\n",
              "      <td>Malay Mail</td>\n",
              "      <td>2015-09-22T00:38:00Z</td>\n",
              "      <td>volkswagen</td>\n",
              "    </tr>\n",
              "    <tr>\n",
              "      <th>1</th>\n",
              "      <td>1746cde7-2075-4809-8982-fa3b4c26d551</td>\n",
              "      <td>The German automakers really know how to make ...</td>\n",
              "      <td>Mercedes Benz debuts sleek new C-Class Coupe -...</td>\n",
              "      <td>Blog</td>\n",
              "      <td>uautoknow.net</td>\n",
              "      <td>2015-08-31T23:23:44Z</td>\n",
              "      <td>mercedes-benz</td>\n",
              "    </tr>\n",
              "    <tr>\n",
              "      <th>2</th>\n",
              "      <td>397fa71a-31b1-4216-8b90-c605a97f6d52</td>\n",
              "      <td>:14 \\n\\nIn late morning trade on the Frankfurt...</td>\n",
              "      <td>Volkswagen shares slide more than 6% in late m...</td>\n",
              "      <td>News</td>\n",
              "      <td>North Eastern Tribune</td>\n",
              "      <td>2015-09-28T10:11:52Z</td>\n",
              "      <td>volkswagen</td>\n",
              "    </tr>\n",
              "    <tr>\n",
              "      <th>3</th>\n",
              "      <td>a3a59992-1635-433a-8a8e-f853d2182055</td>\n",
              "      <td>I’m in the Arctic with JacksGap and glaciologi...</td>\n",
              "      <td>To the Arctic with JacksGap</td>\n",
              "      <td>Blog</td>\n",
              "      <td>WWF UK Blog</td>\n",
              "      <td>2015-09-28T14:36:20Z</td>\n",
              "      <td></td>\n",
              "    </tr>\n",
              "    <tr>\n",
              "      <th>4</th>\n",
              "      <td>4f802018-0e59-4e94-a45f-bd2858d71049</td>\n",
              "      <td>European stock markets recovered their poise T...</td>\n",
              "      <td>US stocks are stable in early trade; energy se...</td>\n",
              "      <td>News</td>\n",
              "      <td>Wichita Eagle</td>\n",
              "      <td>2015-09-29T13:48:07Z</td>\n",
              "      <td>volkswagen</td>\n",
              "    </tr>\n",
              "  </tbody>\n",
              "</table>\n",
              "</div>"
            ],
            "text/plain": [
              "                                     id  ... subject_company\n",
              "0  d86e447d-da83-4cc3-80b1-6dc3b561ee8f  ...      volkswagen\n",
              "1  1746cde7-2075-4809-8982-fa3b4c26d551  ...   mercedes-benz\n",
              "2  397fa71a-31b1-4216-8b90-c605a97f6d52  ...      volkswagen\n",
              "3  a3a59992-1635-433a-8a8e-f853d2182055  ...                \n",
              "4  4f802018-0e59-4e94-a45f-bd2858d71049  ...      volkswagen\n",
              "\n",
              "[5 rows x 7 columns]"
            ]
          },
          "metadata": {
            "tags": []
          },
          "execution_count": 53
        }
      ]
    },
    {
      "cell_type": "markdown",
      "metadata": {
        "id": "dXL2nQ5o0C-t",
        "colab_type": "text"
      },
      "source": [
        "#### Saving the file in gdrive"
      ]
    },
    {
      "cell_type": "code",
      "metadata": {
        "id": "Q5CZRs7pvJrN",
        "colab_type": "code",
        "colab": {}
      },
      "source": [
        "emission_df.to_csv(\"/content/gdrive/My Drive/Colab Notebooks/datasets/emission_df.csv\")"
      ],
      "execution_count": 54,
      "outputs": []
    },
    {
      "cell_type": "code",
      "metadata": {
        "id": "tl7VP6HyduRq",
        "colab_type": "code",
        "colab": {}
      },
      "source": [
        "import pandas as pd\n",
        "emission_df=pd.read_csv(\"/content/gdrive/My Drive/Colab Notebooks/datasets/emission_df.csv\")"
      ],
      "execution_count": 1,
      "outputs": []
    },
    {
      "cell_type": "code",
      "metadata": {
        "id": "TJMp5sAqtH6E",
        "colab_type": "code",
        "colab": {
          "base_uri": "https://localhost:8080/",
          "height": 282
        },
        "outputId": "29b14a7b-fb79-4891-d00c-49b03dc37710"
      },
      "source": [
        "emission_df['subject_company'].value_counts()[:10].plot(kind='barh')"
      ],
      "execution_count": 2,
      "outputs": [
        {
          "output_type": "execute_result",
          "data": {
            "text/plain": [
              "<matplotlib.axes._subplots.AxesSubplot at 0x7f74a5b3f588>"
            ]
          },
          "metadata": {
            "tags": []
          },
          "execution_count": 2
        },
        {
          "output_type": "display_data",
          "data": {
            "image/png": "[encoded data removed]",
            "text/plain": [
              "<Figure size 432x288 with 1 Axes>"
            ]
          },
          "metadata": {
            "tags": [],
            "needs_background": "light"
          }
        }
      ]
    },
    {
      "cell_type": "code",
      "metadata": {
        "id": "qUyJFhZFeSsk",
        "colab_type": "code",
        "colab": {
          "base_uri": "https://localhost:8080/",
          "height": 34
        },
        "outputId": "4593c205-df98-4095-d534-525634f8bac5"
      },
      "source": [
        "emission_df=emission_df.dropna(subset=['subject_company'])\n",
        "emission_df.shape"
      ],
      "execution_count": 3,
      "outputs": [
        {
          "output_type": "execute_result",
          "data": {
            "text/plain": [
              "(4168, 8)"
            ]
          },
          "metadata": {
            "tags": []
          },
          "execution_count": 3
        }
      ]
    },
    {
      "cell_type": "markdown",
      "metadata": {
        "id": "T4qNtGjGH0-2",
        "colab_type": "text"
      },
      "source": [
        "Insight: Volkswagen is quite famous for being in the news !"
      ]
    },
    {
      "cell_type": "code",
      "metadata": {
        "id": "zNVqqIsC9yJe",
        "colab_type": "code",
        "colab": {
          "base_uri": "https://localhost:8080/",
          "height": 34
        },
        "outputId": "b2a3843f-7506-40d2-8ddb-6237cf3372ee"
      },
      "source": [
        "emission_df.shape"
      ],
      "execution_count": 4,
      "outputs": [
        {
          "output_type": "execute_result",
          "data": {
            "text/plain": [
              "(4168, 8)"
            ]
          },
          "metadata": {
            "tags": []
          },
          "execution_count": 4
        }
      ]
    },
    {
      "cell_type": "code",
      "metadata": {
        "id": "POrOzy5NyvEa",
        "colab_type": "code",
        "colab": {
          "base_uri": "https://localhost:8080/",
          "height": 87
        },
        "outputId": "37f93682-426c-43a0-a424-fcf324999f38"
      },
      "source": [
        "top_companies=emission_df['subject_company'].value_counts()[:10].index\n",
        "print(top_companies)\n",
        "emission_df=emission_df[emission_df['subject_company'].isin(top_companies)]\n",
        "emission_df.shape"
      ],
      "execution_count": 5,
      "outputs": [
        {
          "output_type": "stream",
          "text": [
            "Index(['volkswagen', 'audi', 'bmw', 'porsche', 'toyota', 'ford',\n",
            "       'mercedes-benz', 'nissan', 'hyundai', 'chevrolet'],\n",
            "      dtype='object')\n"
          ],
          "name": "stdout"
        },
        {
          "output_type": "execute_result",
          "data": {
            "text/plain": [
              "(3926, 8)"
            ]
          },
          "metadata": {
            "tags": []
          },
          "execution_count": 5
        }
      ]
    },
    {
      "cell_type": "markdown",
      "metadata": {
        "id": "Nhf52yG5Gh6I",
        "colab_type": "text"
      },
      "source": [
        "#### Group by Subject Companies gather all the text in a dataframe\n"
      ]
    },
    {
      "cell_type": "code",
      "metadata": {
        "id": "Vv_07vUwFTif",
        "colab_type": "code",
        "colab": {}
      },
      "source": [
        "grouped=emission_df.groupby(['subject_company'])"
      ],
      "execution_count": 6,
      "outputs": []
    },
    {
      "cell_type": "markdown",
      "metadata": {
        "id": "cUYP0s4LP3EB",
        "colab_type": "text"
      },
      "source": [
        "#### Creating a company and overall text pandas dataframe"
      ]
    },
    {
      "cell_type": "code",
      "metadata": {
        "id": "ah2KBb6zHzFK",
        "colab_type": "code",
        "colab": {
          "base_uri": "https://localhost:8080/",
          "height": 199
        },
        "outputId": "65b7831d-fa81-4859-dc5f-5b640bea316b"
      },
      "source": [
        "company_text=pd.DataFrame(grouped.apply(lambda x : '. '.join('. '.join([t[0],t[1]])\n",
        "               for t in list(zip(x.title.tolist(),x.content.tolist())))))\n",
        "company_text.columns=['text']\n",
        "company_text=company_text.reset_index()\n",
        "company_text.head()"
      ],
      "execution_count": 7,
      "outputs": [
        {
          "output_type": "execute_result",
          "data": {
            "text/html": [
              "<div>\n",
              "<style scoped>\n",
              "    .dataframe tbody tr th:only-of-type {\n",
              "        vertical-align: middle;\n",
              "    }\n",
              "\n",
              "    .dataframe tbody tr th {\n",
              "        vertical-align: top;\n",
              "    }\n",
              "\n",
              "    .dataframe thead th {\n",
              "        text-align: right;\n",
              "    }\n",
              "</style>\n",
              "<table border=\"1\" class=\"dataframe\">\n",
              "  <thead>\n",
              "    <tr style=\"text-align: right;\">\n",
              "      <th></th>\n",
              "      <th>subject_company</th>\n",
              "      <th>text</th>\n",
              "    </tr>\n",
              "  </thead>\n",
              "  <tbody>\n",
              "    <tr>\n",
              "      <th>0</th>\n",
              "      <td>audi</td>\n",
              "      <td>Audi welcome in F1 says Wolff. SEPTEMBER 25, 2...</td>\n",
              "    </tr>\n",
              "    <tr>\n",
              "      <th>1</th>\n",
              "      <td>bmw</td>\n",
              "      <td>Inside the brain of sustainability reporting. ...</td>\n",
              "    </tr>\n",
              "    <tr>\n",
              "      <th>2</th>\n",
              "      <td>chevrolet</td>\n",
              "      <td>Cars We Remember: 1974 Chevy Laguna Type S-3. ...</td>\n",
              "    </tr>\n",
              "    <tr>\n",
              "      <th>3</th>\n",
              "      <td>ford</td>\n",
              "      <td>Driven Alfa Romeo Giulietta Business Edition. ...</td>\n",
              "    </tr>\n",
              "    <tr>\n",
              "      <th>4</th>\n",
              "      <td>hyundai</td>\n",
              "      <td>Keyes Hyundai In Los Angeles Added To Growing ...</td>\n",
              "    </tr>\n",
              "  </tbody>\n",
              "</table>\n",
              "</div>"
            ],
            "text/plain": [
              "  subject_company                                               text\n",
              "0            audi  Audi welcome in F1 says Wolff. SEPTEMBER 25, 2...\n",
              "1             bmw  Inside the brain of sustainability reporting. ...\n",
              "2       chevrolet  Cars We Remember: 1974 Chevy Laguna Type S-3. ...\n",
              "3            ford  Driven Alfa Romeo Giulietta Business Edition. ...\n",
              "4         hyundai  Keyes Hyundai In Los Angeles Added To Growing ..."
            ]
          },
          "metadata": {
            "tags": []
          },
          "execution_count": 7
        }
      ]
    },
    {
      "cell_type": "markdown",
      "metadata": {
        "id": "SFB1aYcLVDkC",
        "colab_type": "text"
      },
      "source": [
        "#### Text Rank Algorithm Implementation\n",
        "\n",
        "TextRank is an extractive and unsupervised text summarization technique. Let’s take a look at the flow of the TextRank algorithm that we will be following:\n",
        "\n",
        "![alt text](https://github.com/imtiazBDSgit/interview/blob/master/TextRank.JPG?raw=true)\n",
        "\n",
        "\n",
        "  1.The first step would be to concatenate all the text contained in the articles\n",
        "\n",
        "  2.Then split the text into individual sentences\n",
        "\n",
        "  3.In the next step, we will find vector \n",
        "  representation (word embeddings) for each and every sentence\n",
        "\n",
        "  4.Similarities between sentence vectors are then calculated and stored in a matrix\n",
        "\n",
        "  5.The similarity matrix is then converted into a graph, with sentences as vertices and similarity scores as edges, for sentence rank calculation\n",
        "\n",
        "  6.Finally, a certain number of top-ranked sentences form the final summary\n",
        "\n",
        "\n",
        "**In order to perform above steps we will use gensim text rank algorithm.**\n",
        "\n"
      ]
    },
    {
      "cell_type": "code",
      "metadata": {
        "id": "MWLPat1DKRBA",
        "colab_type": "code",
        "colab": {}
      },
      "source": [
        "from gensim.summarization.summarizer import summarize \n",
        "from gensim.summarization import keywords "
      ],
      "execution_count": 10,
      "outputs": []
    },
    {
      "cell_type": "markdown",
      "metadata": {
        "id": "RNsl9Sx7YUj8",
        "colab_type": "text"
      },
      "source": [
        "#### Function to return summary so it can be directly applied to dataframe object\n"
      ]
    },
    {
      "cell_type": "code",
      "metadata": {
        "id": "Z0foTBG2XLNW",
        "colab_type": "code",
        "colab": {}
      },
      "source": [
        "def summarize_text(text,word_count=200):\n",
        "  summ_per = summarize(text, word_count = 200) \n",
        "  return summ_per\n",
        "  \n"
      ],
      "execution_count": 11,
      "outputs": []
    },
    {
      "cell_type": "code",
      "metadata": {
        "id": "s3yJ2yI_gKxO",
        "colab_type": "code",
        "colab": {
          "base_uri": "https://localhost:8080/",
          "height": 246
        },
        "outputId": "3b2634bd-a512-4dc4-fc87-53e8e8cb5024"
      },
      "source": [
        "%%time\n",
        "summarize_text(company_text.iloc[1]['text'])"
      ],
      "execution_count": 27,
      "outputs": [
        {
          "output_type": "stream",
          "text": [
            "CPU times: user 270 ms, sys: 8.01 ms, total: 278 ms\n",
            "Wall time: 274 ms\n"
          ],
          "name": "stdout"
        },
        {
          "output_type": "execute_result",
          "data": {
            "application/vnd.google.colaboratory.intrinsic+json": {
              "type": "string"
            },
            "text/plain": [
              "\"In true Bentley fashion, the Bentayga combines unparalleled luxury and effortless performance while still being true to being a bespoke vehicle designed, engineered, and built in Crewe, UK.\\nDriving the Bentayga is made easier with a full suite of technologies including Adaptive Cruise Control with a setting for stop and go traffic, Predictive ACC and Traffic Assist that enables the driver to set a predetermined distance to vehicle in front.\\nNew Bentley 4x4 costs £160,000 and is aimed at top-end of 4x4 market Bentley hopes it will become one of its biggest sellers Blistering performance sees Bentayga hit 62mph in 4.1 seconds Car has hands-free tailgate and optional hamper that turns into seats  \\nRiding high: Bentley's new Bentayga claims to be the most powerful and luxurious 4x4 on sale \\nBentley Motors chairman and chief executive Wolfgang Duerheimer said: ’The Bentayga redefines luxury in the sports utility vehicle sector and offers a genuine Bentley experience in any environment, thanks to a combination of unparalleled attention to detail, go-anywhere ability and cutting-edge technology.\\nTo that end, engineers have spent a lot of time and money developing new off-road-capable hardware, including its Bentley Dynamic Ride active roll control.\""
            ]
          },
          "metadata": {
            "tags": []
          },
          "execution_count": 27
        }
      ]
    },
    {
      "cell_type": "code",
      "metadata": {
        "id": "vzJn3hJVXj_S",
        "colab_type": "code",
        "colab": {
          "base_uri": "https://localhost:8080/",
          "height": 52
        },
        "outputId": "d79922d8-52dc-41ea-c988-df878ad68b9f"
      },
      "source": [
        "%%time\n",
        "company_text=company_text[company_text.subject_company!='volkswagen']\n",
        "company_text['summary']=company_text['text'].apply(summarize_text)\n",
        "company_text.to_csv(\"/content/gdrive/My Drive/Colab Notebooks/datasets/out_summarization.csv\")\n",
        "company_text"
      ],
      "execution_count": 17,
      "outputs": [
        {
          "output_type": "stream",
          "text": [
            "CPU times: user 4min 6s, sys: 6.77 s, total: 4min 13s\n",
            "Wall time: 4min 12s\n"
          ],
          "name": "stdout"
        }
      ]
    },
    {
      "cell_type": "markdown",
      "metadata": {
        "id": "3NhZIPIKWCVJ",
        "colab_type": "text"
      },
      "source": [
        "###### References\n",
        "\n",
        "https://www.analyticsvidhya.com/blog/2018/11/introduction-text-summarization-textrank-python/"
      ]
    }
  ]
}